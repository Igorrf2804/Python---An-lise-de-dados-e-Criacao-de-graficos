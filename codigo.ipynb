version https://git-lfs.github.com/spec/v1
oid sha256:a2ece8b8b69c488f0d379daa83fc5de4a238266d10372936ca8d28f44d5ad5bc
size 152264361
